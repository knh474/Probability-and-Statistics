{
 "cells": [
  {
   "cell_type": "code",
   "execution_count": 10,
   "id": "c4b93d8a-b465-4209-82a6-3d5506e7950e",
   "metadata": {},
   "outputs": [
    {
     "name": "stdout",
     "output_type": "stream",
     "text": [
      "--sys.version—\n",
      "3.10.4 | packaged by conda-forge | (main, Mar 30 2022, 08:38:02) [MSC v.1916 64 bit (AMD64)]\n"
     ]
    }
   ],
   "source": [
    "import sys\n",
    "print(\"--sys.version—\")\n",
    "print(sys.version)"
   ]
  },
  {
   "cell_type": "code",
   "execution_count": 8,
   "id": "9339cbb2-4383-49e1-b75c-becad71b546e",
   "metadata": {},
   "outputs": [],
   "source": [
    "def factorial(x):\n",
    "    # 팩토리얼 함수\n",
    "    # 입력값: 정수 x\n",
    "    # 출력값: x!\n",
    "    x_list = list(range(1,x+1))\n",
    "    res = 1\n",
    "    for val in x_list:\n",
    "        res *= val\n",
    "    return res"
   ]
  },
  {
   "cell_type": "code",
   "execution_count": 2,
   "id": "b590aa8d-9a2a-48a9-846e-79b232948736",
   "metadata": {},
   "outputs": [
    {
     "data": {
      "text/plain": [
       "120"
      ]
     },
     "execution_count": 2,
     "metadata": {},
     "output_type": "execute_result"
    }
   ],
   "source": [
    "factorial(5)"
   ]
  },
  {
   "cell_type": "code",
   "execution_count": 3,
   "id": "dccdd207-0f06-423d-9bab-f5f3f2c250d4",
   "metadata": {},
   "outputs": [],
   "source": [
    "def combination(n,x):\n",
    "    # 조합\n",
    "    # 입력값:  n, x\n",
    "    # 출력값: nCx (실수)\n",
    "    res = factorial(n) / (factorial(x) * factorial(n-x))\n",
    "    return res"
   ]
  },
  {
   "cell_type": "code",
   "execution_count": 6,
   "id": "07f2b0a4-29ad-4a20-b41e-5cfeba0e8e63",
   "metadata": {},
   "outputs": [
    {
     "data": {
      "text/plain": [
       "210.0"
      ]
     },
     "execution_count": 6,
     "metadata": {},
     "output_type": "execute_result"
    }
   ],
   "source": [
    "combination(10,4)"
   ]
  },
  {
   "cell_type": "code",
   "execution_count": 11,
   "id": "9ee88bb2-612f-4aac-aaf1-4b2a96f26b19",
   "metadata": {},
   "outputs": [
    {
     "name": "stdout",
     "output_type": "stream",
     "text": [
      "2.7182815255731922\n"
     ]
    }
   ],
   "source": [
    "#e 구하기\n",
    "n= 10\n",
    "e = 0\n",
    "for i in range(0,n):\n",
    "    e += 1/factorial (i)\n",
    "print(e)"
   ]
  },
  {
   "cell_type": "code",
   "execution_count": 13,
   "id": "b5fa63a6-1740-4901-b3d8-22e027da7951",
   "metadata": {},
   "outputs": [
    {
     "name": "stdout",
     "output_type": "stream",
     "text": [
      "[5, 7, 9]\n"
     ]
    }
   ],
   "source": [
    "def seq(start, stop, step):\n",
    "    # 수열 만들기\n",
    "    # 입력값: start(시작 값), stop(끝 값), step(한 스텝당 증가 수)\n",
    "    # 출력값: res(리스트)\n",
    "    res = []\n",
    "    current = start\n",
    "    while current < stop:\n",
    "        res.append(current)\n",
    "        current += step\n",
    "    return res\n",
    "\n",
    "print(seq(5,10, 2))"
   ]
  },
  {
   "cell_type": "code",
   "execution_count": null,
   "id": "92be883e-c968-4925-a749-838478de7aa9",
   "metadata": {},
   "outputs": [],
   "source": []
  }
 ],
 "metadata": {
  "kernelspec": {
   "display_name": "Python 3 (ipykernel)",
   "language": "python",
   "name": "python3"
  },
  "language_info": {
   "codemirror_mode": {
    "name": "ipython",
    "version": 3
   },
   "file_extension": ".py",
   "mimetype": "text/x-python",
   "name": "python",
   "nbconvert_exporter": "python",
   "pygments_lexer": "ipython3",
   "version": "3.10.4"
  }
 },
 "nbformat": 4,
 "nbformat_minor": 5
}
